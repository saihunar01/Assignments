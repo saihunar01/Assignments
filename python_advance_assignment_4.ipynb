{
 "cells": [
  {
   "cell_type": "markdown",
   "metadata": {},
   "source": [
    "Q1. Which two operator overloading methods can you use in your classes to support iteration?"
   ]
  },
  {
   "cell_type": "markdown",
   "metadata": {},
   "source": [
    "add() and mul() methods can be used for both integers and string data objects. String is iterable object. When two strings are passed to + operator, it will return concatenated string. When * (number) is preceeded by string, then that string is repeated those many number of time."
   ]
  },
  {
   "cell_type": "code",
   "execution_count": 489,
   "metadata": {},
   "outputs": [
    {
     "name": "stdout",
     "output_type": "stream",
     "text": [
      "Monikachoudhary\n",
      "hunarhunarhunar\n"
     ]
    }
   ],
   "source": [
    "print('Monika' + 'choudhary')\n",
    "\n",
    "print(\"hunar\" * 3)"
   ]
  },
  {
   "cell_type": "markdown",
   "metadata": {},
   "source": [
    "Q2. In what contexts do the two operator overloading methods manage printing?"
   ]
  },
  {
   "cell_type": "markdown",
   "metadata": {},
   "source": [
    "It depends on the input parameter for which result is printed. Example, If both inputs are string function will print string output."
   ]
  },
  {
   "cell_type": "markdown",
   "metadata": {},
   "source": [
    "Q3. In a class, how do you intercept slice operations?"
   ]
  },
  {
   "cell_type": "code",
   "execution_count": 490,
   "metadata": {},
   "outputs": [
    {
     "name": "stdout",
     "output_type": "stream",
     "text": [
      "saving\n",
      "         40 function calls in 0.000 seconds\n",
      "\n",
      "   Ordered by: standard name\n",
      "\n",
      "   ncalls  tottime  percall  cumtime  percall filename:lineno(function)\n",
      "        3    0.000    0.000    0.000    0.000 :0(acquire)\n",
      "        3    0.000    0.000    0.000    0.000 :0(append)\n",
      "        1    0.000    0.000    0.000    0.000 :0(exec)\n",
      "        2    0.000    0.000    0.000    0.000 :0(getpid)\n",
      "        2    0.000    0.000    0.000    0.000 :0(isinstance)\n",
      "        1    0.000    0.000    0.000    0.000 :0(print)\n",
      "        1    0.000    0.000    0.000    0.000 :0(setprofile)\n",
      "        1    0.000    0.000    0.000    0.000 <ipython-input-490-46e76f7ccef3>:4(__setitem__)\n",
      "        1    0.000    0.000    0.000    0.000 <string>:1(<module>)\n",
      "        3    0.000    0.000    0.000    0.000 iostream.py:197(schedule)\n",
      "        2    0.000    0.000    0.000    0.000 iostream.py:310(_is_master_process)\n",
      "        2    0.000    0.000    0.000    0.000 iostream.py:323(_schedule_flush)\n",
      "        2    0.000    0.000    0.000    0.000 iostream.py:386(write)\n",
      "        3    0.000    0.000    0.000    0.000 iostream.py:93(_event_pipe)\n",
      "        1    0.000    0.000    0.000    0.000 profile:0(l2[3:] = [5])\n",
      "        0    0.000             0.000          profile:0(profiler)\n",
      "        3    0.000    0.000    0.000    0.000 socket.py:342(send)\n",
      "        3    0.000    0.000    0.000    0.000 threading.py:1017(_wait_for_tstate_lock)\n",
      "        3    0.000    0.000    0.000    0.000 threading.py:1071(is_alive)\n",
      "        3    0.000    0.000    0.000    0.000 threading.py:513(is_set)\n",
      "\n",
      "\n",
      "saving\n",
      "         32 function calls in 0.000 seconds\n",
      "\n",
      "   Ordered by: standard name\n",
      "\n",
      "   ncalls  tottime  percall  cumtime  percall filename:lineno(function)\n",
      "        2    0.000    0.000    0.000    0.000 :0(acquire)\n",
      "        2    0.000    0.000    0.000    0.000 :0(append)\n",
      "        1    0.000    0.000    0.000    0.000 :0(exec)\n",
      "        2    0.000    0.000    0.000    0.000 :0(getpid)\n",
      "        2    0.000    0.000    0.000    0.000 :0(isinstance)\n",
      "        1    0.000    0.000    0.000    0.000 :0(print)\n",
      "        1    0.000    0.000    0.000    0.000 :0(setprofile)\n",
      "        1    0.000    0.000    0.000    0.000 <ipython-input-490-46e76f7ccef3>:4(__setitem__)\n",
      "        1    0.000    0.000    0.000    0.000 <string>:1(<module>)\n",
      "        2    0.000    0.000    0.000    0.000 iostream.py:197(schedule)\n",
      "        2    0.000    0.000    0.000    0.000 iostream.py:310(_is_master_process)\n",
      "        2    0.000    0.000    0.000    0.000 iostream.py:323(_schedule_flush)\n",
      "        2    0.000    0.000    0.000    0.000 iostream.py:386(write)\n",
      "        2    0.000    0.000    0.000    0.000 iostream.py:93(_event_pipe)\n",
      "        1    0.000    0.000    0.000    0.000 profile:0(l2[2:6] = [12,4])\n",
      "        0    0.000             0.000          profile:0(profiler)\n",
      "        2    0.000    0.000    0.000    0.000 socket.py:342(send)\n",
      "        2    0.000    0.000    0.000    0.000 threading.py:1017(_wait_for_tstate_lock)\n",
      "        2    0.000    0.000    0.000    0.000 threading.py:1071(is_alive)\n",
      "        2    0.000    0.000    0.000    0.000 threading.py:513(is_set)\n",
      "\n",
      "\n",
      "saving\n",
      "         32 function calls in 0.000 seconds\n",
      "\n",
      "   Ordered by: standard name\n",
      "\n",
      "   ncalls  tottime  percall  cumtime  percall filename:lineno(function)\n",
      "        2    0.000    0.000    0.000    0.000 :0(acquire)\n",
      "        2    0.000    0.000    0.000    0.000 :0(append)\n",
      "        1    0.000    0.000    0.000    0.000 :0(exec)\n",
      "        2    0.000    0.000    0.000    0.000 :0(getpid)\n",
      "        2    0.000    0.000    0.000    0.000 :0(isinstance)\n",
      "        1    0.000    0.000    0.000    0.000 :0(print)\n",
      "        1    0.000    0.000    0.000    0.000 :0(setprofile)\n",
      "        1    0.000    0.000    0.000    0.000 <ipython-input-490-46e76f7ccef3>:4(__setitem__)\n",
      "        1    0.000    0.000    0.000    0.000 <string>:1(<module>)\n",
      "        2    0.000    0.000    0.000    0.000 iostream.py:197(schedule)\n",
      "        2    0.000    0.000    0.000    0.000 iostream.py:310(_is_master_process)\n",
      "        2    0.000    0.000    0.000    0.000 iostream.py:323(_schedule_flush)\n",
      "        2    0.000    0.000    0.000    0.000 iostream.py:386(write)\n",
      "        2    0.000    0.000    0.000    0.000 iostream.py:93(_event_pipe)\n",
      "        1    0.000    0.000    0.000    0.000 profile:0(l2[-1:] = [42])\n",
      "        0    0.000             0.000          profile:0(profiler)\n",
      "        2    0.000    0.000    0.000    0.000 socket.py:342(send)\n",
      "        2    0.000    0.000    0.000    0.000 threading.py:1017(_wait_for_tstate_lock)\n",
      "        2    0.000    0.000    0.000    0.000 threading.py:1071(is_alive)\n",
      "        2    0.000    0.000    0.000    0.000 threading.py:513(is_set)\n",
      "\n",
      "\n",
      "saving\n",
      "         32 function calls in 0.000 seconds\n",
      "\n",
      "   Ordered by: standard name\n",
      "\n",
      "   ncalls  tottime  percall  cumtime  percall filename:lineno(function)\n",
      "        2    0.000    0.000    0.000    0.000 :0(acquire)\n",
      "        2    0.000    0.000    0.000    0.000 :0(append)\n",
      "        1    0.000    0.000    0.000    0.000 :0(exec)\n",
      "        2    0.000    0.000    0.000    0.000 :0(getpid)\n",
      "        2    0.000    0.000    0.000    0.000 :0(isinstance)\n",
      "        1    0.000    0.000    0.000    0.000 :0(print)\n",
      "        1    0.000    0.000    0.000    0.000 :0(setprofile)\n",
      "        1    0.000    0.000    0.000    0.000 <ipython-input-490-46e76f7ccef3>:4(__setitem__)\n",
      "        1    0.000    0.000    0.000    0.000 <string>:1(<module>)\n",
      "        2    0.000    0.000    0.000    0.000 iostream.py:197(schedule)\n",
      "        2    0.000    0.000    0.000    0.000 iostream.py:310(_is_master_process)\n",
      "        2    0.000    0.000    0.000    0.000 iostream.py:323(_schedule_flush)\n",
      "        2    0.000    0.000    0.000    0.000 iostream.py:386(write)\n",
      "        2    0.000    0.000    0.000    0.000 iostream.py:93(_event_pipe)\n",
      "        1    0.000    0.000    0.000    0.000 profile:0(l2[::2] = [6,6])\n",
      "        0    0.000             0.000          profile:0(profiler)\n",
      "        2    0.000    0.000    0.000    0.000 socket.py:342(send)\n",
      "        2    0.000    0.000    0.000    0.000 threading.py:1017(_wait_for_tstate_lock)\n",
      "        2    0.000    0.000    0.000    0.000 threading.py:1071(is_alive)\n",
      "        2    0.000    0.000    0.000    0.000 threading.py:513(is_set)\n",
      "\n",
      "\n"
     ]
    }
   ],
   "source": [
    "import profile\n",
    "import sys\n",
    "class InterceptedList2(list):\n",
    "    def __setitem__(self, key, value):\n",
    "        print ('saving')\n",
    "        list.__setitem__(self, key, value)\n",
    "\n",
    "    def __delitem__(self, key):\n",
    "        print ('saving')\n",
    "        list.__delitem__(self, key)\n",
    "\n",
    "l2 = InterceptedList2()\n",
    "l2.extend([1,2,3,4])\n",
    "profile.run(\"l2[3:] = [5]\")\n",
    "profile.run(\"l2[2:6] = [12,4]\")\n",
    "profile.run(\"l2[-1:] = [42]\")\n",
    "profile.run(\"l2[::2] = [6,6]\")"
   ]
  },
  {
   "cell_type": "markdown",
   "metadata": {},
   "source": [
    "Q4. In a class, how do you capture in-place addition?"
   ]
  },
  {
   "cell_type": "code",
   "execution_count": null,
   "metadata": {},
   "outputs": [],
   "source": []
  },
  {
   "cell_type": "code",
   "execution_count": null,
   "metadata": {},
   "outputs": [],
   "source": [
    "Q5. When is it appropriate to use operator overloading?"
   ]
  }
 ],
 "metadata": {
  "kernelspec": {
   "display_name": "Python 3",
   "language": "python",
   "name": "python3"
  },
  "language_info": {
   "codemirror_mode": {
    "name": "ipython",
    "version": 3
   },
   "file_extension": ".py",
   "mimetype": "text/x-python",
   "name": "python",
   "nbconvert_exporter": "python",
   "pygments_lexer": "ipython3",
   "version": "3.8.3"
  }
 },
 "nbformat": 4,
 "nbformat_minor": 4
}
