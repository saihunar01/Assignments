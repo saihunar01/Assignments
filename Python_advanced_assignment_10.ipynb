{
 "cells": [
  {
   "cell_type": "markdown",
   "metadata": {},
   "source": [
    "Q1. What is the difference between __getattr__ and __getattribute__?"
   ]
  },
  {
   "cell_type": "markdown",
   "metadata": {},
   "source": [
    "Normally, if we want to access the attribute of a class, we access it with instance of the class like instance.attribute_name. These attributes are already present in the class. Where as, to access the attribute of class which are not defined in the class, we use getattr() method.\n",
    "But if the attribute does exist, getattr won’t be invoked\n",
    "\n",
    "getattribute will look for every attribute, doesn’t matter if the attribute exists or not."
   ]
  },
  {
   "cell_type": "code",
   "execution_count": 2,
   "metadata": {},
   "outputs": [
    {
     "name": "stdout",
     "output_type": "stream",
     "text": [
      "Delhi\n",
      "abcd\n"
     ]
    }
   ],
   "source": [
    "class Sample:\n",
    "    def __init__(self,address):\n",
    "        self.address = address\n",
    "    \n",
    "    def __getattr__(self,name):\n",
    "        return name.lower()\n",
    "    \n",
    "s =Sample('Delhi')\n",
    "print(s.address)\n",
    "print(s.ABCD)"
   ]
  },
  {
   "cell_type": "code",
   "execution_count": 3,
   "metadata": {},
   "outputs": [
    {
     "name": "stdout",
     "output_type": "stream",
     "text": [
      "New Value\n"
     ]
    }
   ],
   "source": [
    "class Dummy():\n",
    "\n",
    "    def __getattribute__(self, attr):\n",
    "        return 'New Value'\n",
    "\n",
    "d = Dummy()\n",
    "d.value = \"Old value\"\n",
    "print(d.value) "
   ]
  },
  {
   "cell_type": "markdown",
   "metadata": {},
   "source": [
    "Q2. What is the difference between properties and descriptors?"
   ]
  },
  {
   "cell_type": "markdown",
   "metadata": {},
   "source": [
    "In Properties, We can bind getter, setter functions with an attribute name, using the built-in property function. In descriptor, We can bind getter, setter (and deleter) functions into a separate class. We then assign an object of this class to the attribute name."
   ]
  },
  {
   "cell_type": "markdown",
   "metadata": {},
   "source": [
    "\n",
    "Q3. What are the key differences in functionality between __getattr__ and __getattribute__, as well as properties and descriptors?\n"
   ]
  },
  {
   "cell_type": "markdown",
   "metadata": {},
   "source": [
    "To access the attribute of class which are not defined in the class, we use getattr() method. But if the attribute does exist, getattr won’t be invoked. getattribute will look for every attribute, doesn’t matter if the attribute exists or not.\n",
    "\n",
    "In Properties, We can bind getter, setter functions with an attribute name, using the built-in property function. In descriptor, We can bind getter, setter (and deleter) functions into a separate class. We then assign an object of this class to the attribute name."
   ]
  }
 ],
 "metadata": {
  "kernelspec": {
   "display_name": "Python 3",
   "language": "python",
   "name": "python3"
  },
  "language_info": {
   "codemirror_mode": {
    "name": "ipython",
    "version": 3
   },
   "file_extension": ".py",
   "mimetype": "text/x-python",
   "name": "python",
   "nbconvert_exporter": "python",
   "pygments_lexer": "ipython3",
   "version": "3.8.3"
  }
 },
 "nbformat": 4,
 "nbformat_minor": 4
}
